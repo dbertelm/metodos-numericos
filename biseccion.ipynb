{
  "nbformat": 4,
  "nbformat_minor": 0,
  "metadata": {
    "colab": {
      "name": "biseccion.ipynb",
      "provenance": [],
      "authorship_tag": "ABX9TyPcCtNalKclsylXMIniTa6I",
      "include_colab_link": true
    },
    "kernelspec": {
      "name": "python3",
      "display_name": "Python 3"
    },
    "language_info": {
      "name": "python"
    }
  },
  "cells": [
    {
      "cell_type": "markdown",
      "metadata": {
        "id": "view-in-github",
        "colab_type": "text"
      },
      "source": [
        "<a href=\"https://colab.research.google.com/github/dbertelm/metodos-numericos/blob/main/biseccion.ipynb\" target=\"_parent\"><img src=\"https://colab.research.google.com/assets/colab-badge.svg\" alt=\"Open In Colab\"/></a>"
      ]
    },
    {
      "cell_type": "code",
      "source": [
        "import math"
      ],
      "metadata": {
        "id": "zpbMshIXa3S6"
      },
      "execution_count": null,
      "outputs": []
    },
    {
      "cell_type": "code",
      "source": [
        "def f(x):\n",
        "  funcion=x*math.e**(-x)+1\n",
        "  return funcion"
      ],
      "metadata": {
        "id": "Iub3153yao5w"
      },
      "execution_count": null,
      "outputs": []
    },
    {
      "cell_type": "code",
      "source": [
        "def biseccion(a,b,tol):\n",
        "  m1=a\n",
        "  m=b\n",
        "  k=0\n",
        "  if (f(a)*f(b)>0):\n",
        "    print(\"la funcion no cambia de signo\")\n",
        "  while (abs(m1-m)>tol):\n",
        "    m1=m\n",
        "    m=(a+b)/2\n",
        "    if (f(a)*f(m)<0):\n",
        "      b=m\n",
        "    if (f(m)*f(b)<0):\n",
        "      a=m\n",
        "   \n",
        "    print(\"el intervalo es[\",a,\",\",b,\"]\")\n",
        "    \n",
        "    k=k+1\n",
        "  print(\"x\",k,\"=\",m,\"es una buena aproximacion\")"
      ],
      "metadata": {
        "id": "_Yhnmc2iaNyc"
      },
      "execution_count": null,
      "outputs": []
    },
    {
      "cell_type": "code",
      "source": [
        "biseccion(-3,3,10**(-4))"
      ],
      "metadata": {
        "colab": {
          "base_uri": "https://localhost:8080/"
        },
        "id": "WXGhzWPRcT3K",
        "outputId": "d022a781-a8d5-4dd4-f7fa-9338969d88b2"
      },
      "execution_count": null,
      "outputs": [
        {
          "output_type": "stream",
          "name": "stdout",
          "text": [
            "el intervalo es[ -3 , 0.0 ]\n",
            "el intervalo es[ -1.5 , 0.0 ]\n",
            "el intervalo es[ -0.75 , 0.0 ]\n",
            "el intervalo es[ -0.75 , -0.375 ]\n",
            "el intervalo es[ -0.75 , -0.5625 ]\n",
            "el intervalo es[ -0.65625 , -0.5625 ]\n",
            "el intervalo es[ -0.609375 , -0.5625 ]\n",
            "el intervalo es[ -0.5859375 , -0.5625 ]\n",
            "el intervalo es[ -0.57421875 , -0.5625 ]\n",
            "el intervalo es[ -0.568359375 , -0.5625 ]\n",
            "el intervalo es[ -0.568359375 , -0.5654296875 ]\n",
            "el intervalo es[ -0.568359375 , -0.56689453125 ]\n",
            "el intervalo es[ -0.567626953125 , -0.56689453125 ]\n",
            "el intervalo es[ -0.5672607421875 , -0.56689453125 ]\n",
            "el intervalo es[ -0.5672607421875 , -0.56707763671875 ]\n",
            "el intervalo es[ -0.567169189453125 , -0.56707763671875 ]\n",
            "x 16 = -0.567169189453125 es una buena aproximacion\n"
          ]
        }
      ]
    },
    {
      "cell_type": "markdown",
      "source": [
        "# **newton-rhapson**"
      ],
      "metadata": {
        "id": "IQuOtRJiArfi"
      }
    }
  ]
}